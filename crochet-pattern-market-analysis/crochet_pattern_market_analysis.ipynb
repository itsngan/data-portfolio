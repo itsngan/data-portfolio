{
 "cells": [
  {
   "cell_type": "code",
   "execution_count": 1,
   "id": "c9589fb9-10c5-4b5f-a3e3-77db2e4b91ac",
   "metadata": {},
   "outputs": [],
   "source": [
    "# Crochet Market Analysis\n",
    "# Author: Ngan Phan\n",
    "# Date: October 7, 2025\n",
    "# -------\n",
    "\n",
    "# Overview\n",
    "# This project analyzes crochet pattern listings on Ravelry to\n",
    "# understand what factors influence popularity and rating\n",
    "# -------"
   ]
  },
  {
   "cell_type": "markdown",
   "id": "b6863c58-2e2e-4652-9523-9cd1c5d44874",
   "metadata": {},
   "source": [
    "## 1. Introduction\n",
    "\n",
    "**Goal:**\n",
    "Analyze crochet pattern listings to see what factors may influence their popularity & engagement.\n",
    "\n",
    "**Research Questions:**\n",
    "- What crochet types (amigurumi, clothing items, decorations, etc.) are most popular?\n",
    "- How does price relate to popularity metrics (favourites & reviews)?\n",
    "- What keywords or tags are common among high-performance listings?\n",
    "- Are there any seasonal trends in listings (such as during fall-winter as compared to summer)?\n",
    "\n",
    "**Data Source:**\n",
    "Ravelry API (I tried Etsy scraping, but they have anti-scraping measures, unfortunately)\n",
    "\n",
    "**Libraries Used:**\n",
    "`pandas`, `numpy`, `matplotlib`, `seaborn`, `wordcloud`"
   ]
  },
  {
   "cell_type": "markdown",
   "id": "3531c33b-ab17-4afa-9670-0c4d369f0aec",
   "metadata": {},
   "source": [
    "## 2. Data Collection"
   ]
  },
  {
   "cell_type": "code",
   "execution_count": 26,
   "id": "cc8be8cd-27d6-42d4-8d04-4500e0c39dec",
   "metadata": {},
   "outputs": [
    {
     "name": "stdout",
     "output_type": "stream",
     "text": [
      "Popularity Sort:\n",
      "6 Day Star Blanket\n",
      "Rainbow Ripple Baby Blanket\n",
      "Scrap Yarn Basket\n",
      "Mother Bear (Seamless Crochet)\n",
      "Jethro\n",
      "Granny Square Chicken\n",
      "The Granny Hexagon Cardigan\n",
      "Balloon Dog\n",
      "Impkin\n",
      "Emotional Support Chicken™ (Crochet)\n"
     ]
    }
   ],
   "source": [
    "import requests\n",
    "from requests.auth import HTTPBasicAuth\n",
    "\n",
    "username = 'read-201006e2c44e339ed7a0cacda6af1f18'\n",
    "password = 'E8+oP8aWE4i+BGLYdlVGrB5Mz8rHSaQEYRKMYUFO'\n",
    "\n",
    "all_patterns = []\n",
    "\n",
    "## queries: craft=crochet , category=amigurumi , free=true or free=false , sort=popularity , sort=price\n",
    "\n",
    "# Example:\n",
    "print(\"Popularity Sort:\")\n",
    "for page in  range (1, 3): # for scalability\n",
    "    url = f\"https://api.ravelry.com/patterns/search.json?craft=crochet&sort=popularity&page={page}&page_size=5\"\n",
    "    response = requests.get(url, auth=HTTPBasicAuth(username, password))\n",
    "    if response.status_code == 200:\n",
    "        data = response.json()\n",
    "        for pattern in data[\"patterns\"]:\n",
    "            print(pattern[\"name\"])\n",
    "    else:\n",
    "        print(\"Error:\", response.status_code)"
   ]
  },
  {
   "cell_type": "code",
   "execution_count": 27,
   "id": "1f62dc09-1a3a-4123-a71a-5ffee7d004c9",
   "metadata": {},
   "outputs": [
    {
     "ename": "OptionError",
     "evalue": "No such keys(s): 'display_max_columns'",
     "output_type": "error",
     "traceback": [
      "\u001b[0;31m---------------------------------------------------------------------------\u001b[0m",
      "\u001b[0;31mOptionError\u001b[0m                               Traceback (most recent call last)",
      "Cell \u001b[0;32mIn[27], line 10\u001b[0m\n\u001b[1;32m      7\u001b[0m \u001b[38;5;28;01mfrom\u001b[39;00m\u001b[38;5;250m \u001b[39m\u001b[38;5;21;01mwordcloud\u001b[39;00m\u001b[38;5;250m \u001b[39m\u001b[38;5;28;01mimport\u001b[39;00m WordCloud\n\u001b[1;32m      9\u001b[0m \u001b[38;5;66;03m# Display settings\u001b[39;00m\n\u001b[0;32m---> 10\u001b[0m pd\u001b[38;5;241m.\u001b[39mset_option(\u001b[38;5;124m'\u001b[39m\u001b[38;5;124mdisplay_max_columns\u001b[39m\u001b[38;5;124m'\u001b[39m, \u001b[38;5;28;01mNone\u001b[39;00m)\n\u001b[1;32m     11\u001b[0m sns\u001b[38;5;241m.\u001b[39mset(style\u001b[38;5;241m=\u001b[39m\u001b[38;5;124m'\u001b[39m\u001b[38;5;124mwhitegrid\u001b[39m\u001b[38;5;124m'\u001b[39m, palette\u001b[38;5;241m=\u001b[39m\u001b[38;5;124m'\u001b[39m\u001b[38;5;124mpastel\u001b[39m\u001b[38;5;124m'\u001b[39m)\n\u001b[1;32m     13\u001b[0m df \u001b[38;5;241m=\u001b[39m pd\u001b[38;5;241m.\u001b[39mread_csv(\u001b[38;5;124m\"\u001b[39m\u001b[38;5;124mcrochet_patterns.csv\u001b[39m\u001b[38;5;124m\"\u001b[39m)\n",
      "File \u001b[0;32m/opt/anaconda3/lib/python3.13/site-packages/pandas/_config/config.py:274\u001b[0m, in \u001b[0;36mCallableDynamicDoc.__call__\u001b[0;34m(self, *args, **kwds)\u001b[0m\n\u001b[1;32m    273\u001b[0m \u001b[38;5;28;01mdef\u001b[39;00m\u001b[38;5;250m \u001b[39m\u001b[38;5;21m__call__\u001b[39m(\u001b[38;5;28mself\u001b[39m, \u001b[38;5;241m*\u001b[39margs, \u001b[38;5;241m*\u001b[39m\u001b[38;5;241m*\u001b[39mkwds) \u001b[38;5;241m-\u001b[39m\u001b[38;5;241m>\u001b[39m T:\n\u001b[0;32m--> 274\u001b[0m     \u001b[38;5;28;01mreturn\u001b[39;00m \u001b[38;5;28mself\u001b[39m\u001b[38;5;241m.\u001b[39m\u001b[38;5;18m__func__\u001b[39m(\u001b[38;5;241m*\u001b[39margs, \u001b[38;5;241m*\u001b[39m\u001b[38;5;241m*\u001b[39mkwds)\n",
      "File \u001b[0;32m/opt/anaconda3/lib/python3.13/site-packages/pandas/_config/config.py:167\u001b[0m, in \u001b[0;36m_set_option\u001b[0;34m(*args, **kwargs)\u001b[0m\n\u001b[1;32m    164\u001b[0m     \u001b[38;5;28;01mraise\u001b[39;00m \u001b[38;5;167;01mTypeError\u001b[39;00m(\u001b[38;5;124mf\u001b[39m\u001b[38;5;124m'\u001b[39m\u001b[38;5;124m_set_option() got an unexpected keyword argument \u001b[39m\u001b[38;5;124m\"\u001b[39m\u001b[38;5;132;01m{\u001b[39;00mkwarg\u001b[38;5;132;01m}\u001b[39;00m\u001b[38;5;124m\"\u001b[39m\u001b[38;5;124m'\u001b[39m)\n\u001b[1;32m    166\u001b[0m \u001b[38;5;28;01mfor\u001b[39;00m k, v \u001b[38;5;129;01min\u001b[39;00m \u001b[38;5;28mzip\u001b[39m(args[::\u001b[38;5;241m2\u001b[39m], args[\u001b[38;5;241m1\u001b[39m::\u001b[38;5;241m2\u001b[39m]):\n\u001b[0;32m--> 167\u001b[0m     key \u001b[38;5;241m=\u001b[39m _get_single_key(k, silent)\n\u001b[1;32m    169\u001b[0m     o \u001b[38;5;241m=\u001b[39m _get_registered_option(key)\n\u001b[1;32m    170\u001b[0m     \u001b[38;5;28;01mif\u001b[39;00m o \u001b[38;5;129;01mand\u001b[39;00m o\u001b[38;5;241m.\u001b[39mvalidator:\n",
      "File \u001b[0;32m/opt/anaconda3/lib/python3.13/site-packages/pandas/_config/config.py:132\u001b[0m, in \u001b[0;36m_get_single_key\u001b[0;34m(pat, silent)\u001b[0m\n\u001b[1;32m    130\u001b[0m     \u001b[38;5;28;01mif\u001b[39;00m \u001b[38;5;129;01mnot\u001b[39;00m silent:\n\u001b[1;32m    131\u001b[0m         _warn_if_deprecated(pat)\n\u001b[0;32m--> 132\u001b[0m     \u001b[38;5;28;01mraise\u001b[39;00m OptionError(\u001b[38;5;124mf\u001b[39m\u001b[38;5;124m\"\u001b[39m\u001b[38;5;124mNo such keys(s): \u001b[39m\u001b[38;5;132;01m{\u001b[39;00m\u001b[38;5;28mrepr\u001b[39m(pat)\u001b[38;5;132;01m}\u001b[39;00m\u001b[38;5;124m\"\u001b[39m)\n\u001b[1;32m    133\u001b[0m \u001b[38;5;28;01mif\u001b[39;00m \u001b[38;5;28mlen\u001b[39m(keys) \u001b[38;5;241m>\u001b[39m \u001b[38;5;241m1\u001b[39m:\n\u001b[1;32m    134\u001b[0m     \u001b[38;5;28;01mraise\u001b[39;00m OptionError(\u001b[38;5;124m\"\u001b[39m\u001b[38;5;124mPattern matched multiple keys\u001b[39m\u001b[38;5;124m\"\u001b[39m)\n",
      "\u001b[0;31mOptionError\u001b[0m: No such keys(s): 'display_max_columns'"
     ]
    }
   ],
   "source": [
    "# 2. Import Libraries & Load Data\n",
    "\n",
    "import pandas as pd\n",
    "import numpy as np\n",
    "import matplotlib.pyplot as plt\n",
    "import seaborn as sns\n",
    "from wordcloud import WordCloud\n",
    "\n",
    "# Display settings\n",
    "pd.set_option('display_max_columns', None)\n",
    "sns.set(style='whitegrid', palette='pastel')\n",
    "\n",
    "df = pd.read_csv(\"crochet_patterns.csv\")\n",
    "\n",
    "df.head()"
   ]
  },
  {
   "cell_type": "code",
   "execution_count": null,
   "id": "a76b0187-069d-484d-a1b4-a4831d31ac5a",
   "metadata": {},
   "outputs": [],
   "source": []
  },
  {
   "cell_type": "code",
   "execution_count": null,
   "id": "ea572fc5-fb8b-4651-90eb-4fb7231f2ee1",
   "metadata": {},
   "outputs": [],
   "source": []
  }
 ],
 "metadata": {
  "kernelspec": {
   "display_name": "Python [conda env:base] *",
   "language": "python",
   "name": "conda-base-py"
  },
  "language_info": {
   "codemirror_mode": {
    "name": "ipython",
    "version": 3
   },
   "file_extension": ".py",
   "mimetype": "text/x-python",
   "name": "python",
   "nbconvert_exporter": "python",
   "pygments_lexer": "ipython3",
   "version": "3.13.5"
  }
 },
 "nbformat": 4,
 "nbformat_minor": 5
}
