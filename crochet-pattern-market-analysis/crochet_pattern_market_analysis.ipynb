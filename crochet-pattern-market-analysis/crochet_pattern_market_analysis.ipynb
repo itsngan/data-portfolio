{
 "cells": [
  {
   "cell_type": "code",
   "execution_count": 1,
   "id": "c9589fb9-10c5-4b5f-a3e3-77db2e4b91ac",
   "metadata": {},
   "outputs": [],
   "source": [
    "# Crochet Market Analysis\n",
    "# Author: Ngan Phan\n",
    "# Date: October 7, 2025\n",
    "# -------\n",
    "\n",
    "# Overview\n",
    "# This project analyzes crochet pattern listings on Ravelry to\n",
    "# understand what factors influence popularity and rating\n",
    "# -------"
   ]
  },
  {
   "cell_type": "markdown",
   "id": "b6863c58-2e2e-4652-9523-9cd1c5d44874",
   "metadata": {},
   "source": [
    "## 1. Introduction\n",
    "\n",
    "**Goal:**\n",
    "Analyze crochet pattern listings to see what factors may influence their popularity & engagement.\n",
    "\n",
    "**Research Questions:**\n",
    "- What crochet types (amigurumi, clothing items, decorations, etc.) are most popular?\n",
    "- How does price relate to popularity metrics (favourites & reviews)?\n",
    "- What keywords or tags are common among high-performance listings?\n",
    "- Are there any seasonal trends in listings (such as during fall-winter as compared to summer)?\n",
    "\n",
    "**Data Source:**\n",
    "Ravelry API (I tried Etsy scraping, but they have anti-scraping measures, unfortunately)\n",
    "\n",
    "**Libraries Used:**\n",
    "`pandas`, `numpy`, `matplotlib`, `seaborn`, `wordcloud`"
   ]
  },
  {
   "cell_type": "markdown",
   "id": "3531c33b-ab17-4afa-9670-0c4d369f0aec",
   "metadata": {},
   "source": [
    "## 2. Data Collection"
   ]
  },
  {
   "cell_type": "code",
   "execution_count": 1,
   "id": "cc8be8cd-27d6-42d4-8d04-4500e0c39dec",
   "metadata": {},
   "outputs": [
    {
     "name": "stdout",
     "output_type": "stream",
     "text": [
      "Popularity Sort:\n",
      "6 Day Star Blanket\n",
      "Rainbow Ripple Baby Blanket\n",
      "Scrap Yarn Basket\n",
      "Mother Bear (Seamless Crochet)\n",
      "Jethro\n",
      "Granny Square Chicken\n",
      "The Granny Hexagon Cardigan\n",
      "Balloon Dog\n",
      "Impkin\n",
      "Emotional Support Chicken™ (Crochet)\n"
     ]
    }
   ],
   "source": [
    "import requests\n",
    "from requests.auth import HTTPBasicAuth\n",
    "import time\n",
    "\n",
    "username = 'read-201006e2c44e339ed7a0cacda6af1f18'\n",
    "password = 'E8+oP8aWE4i+BGLYdlVGrB5Mz8rHSaQEYRKMYUFO'\n",
    "\n",
    "## queries: craft=crochet , category=amigurumi , free=true or free=false , sort=popularity , sort=price\n",
    "\n",
    "# Example:\n",
    "print(\"Popularity Sort:\")\n",
    "for page in  range (1, 3): # for scalability\n",
    "    url = f\"https://api.ravelry.com/patterns/search.json?craft=crochet&sort=popularity&page={page}&page_size=5\"\n",
    "    response = requests.get(url, auth=HTTPBasicAuth(username, password))\n",
    "    if response.status_code == 200:\n",
    "        data = response.json()\n",
    "        for pattern in data[\"patterns\"]:\n",
    "            print(pattern[\"name\"])\n",
    "    else:\n",
    "        print(\"Error:\", response.status_code)"
   ]
  },
  {
   "cell_type": "code",
   "execution_count": null,
   "id": "052565f2-e230-44b8-b2d2-8d7cc80356a8",
   "metadata": {},
   "outputs": [],
   "source": [
    "# 1. Collect Data: 1000 of most popular crochet patterns\n",
    "\n",
    "## getting first 20 pages of search query and saving pattern ids\n",
    "pattern_ids = []\n",
    "\n",
    "for page in  range (1, 6):\n",
    "    url = f\"https://api.ravelry.com/patterns/search.json?craft=crochet&sort=popularity&page={page}&page_size=50\"\n",
    "    response = requests.get(url, auth=HTTPBasicAuth(username, password))\n",
    "    if response.status_code == 200:\n",
    "        data = response.json()\n",
    "        pattern_ids.extend(p[\"id\"] for p in data[\"patterns\"])\n",
    "    time.sleep(1)\n",
    "                           \n",
    "## using pattern ids to collect detailed information of each pattern\n",
    "crochet_patterns = []\n",
    "\n",
    "for pid in pattern_ids:\n",
    "    url = f\"https://api.ravelry.com/patterns/{pid}.json\"\n",
    "    response = requests.get(url, auth=HTTPBasicAuth(username, password))\n",
    "    if response.status_code == 200:\n",
    "        data = response.json()\n",
    "        crochet_patterns.extend(data)\n",
    "    time.sleep(1)\n",
    "\n",
    "print(\"Total Patterns Collected:\", len(crochet_patterns))"
   ]
  },
  {
   "cell_type": "code",
   "execution_count": null,
   "id": "1f62dc09-1a3a-4123-a71a-5ffee7d004c9",
   "metadata": {},
   "outputs": [],
   "source": [
    "# 2. Import Libraries & Load Data\n",
    "\n",
    "import pandas as pd\n",
    "import numpy as np\n",
    "import matplotlib.pyplot as plt\n",
    "import seaborn as sns\n",
    "from wordcloud import WordCloud\n",
    "\n",
    "# Display settings\n",
    "pd.set_option('display.max_columns', None)\n",
    "sns.set(style='whitegrid', palette='pastel')\n",
    "\n",
    "# creating csv file\n",
    "df = pd.DataFrame(crochet_patterns)\n",
    "df.to_csv(\"crochet_patterns.csv\", index=False)\n",
    "\n",
    "# load data\n",
    "df = pd.read_csv(\"crochet_patterns.csv\")\n",
    "\n",
    "df.head()"
   ]
  },
  {
   "cell_type": "markdown",
   "id": "d32be015-3542-4f30-bb66-215cd8fc7b06",
   "metadata": {},
   "source": [
    "# 3. Data Cleaning & Preparation"
   ]
  },
  {
   "cell_type": "code",
   "execution_count": null,
   "id": "ea572fc5-fb8b-4651-90eb-4fb7231f2ee1",
   "metadata": {},
   "outputs": [],
   "source": [
    "# checking missing values\n",
    "df.info()\n",
    "df.isnull().sum()\n",
    "\n",
    "# removing duplicate listings (if any)\n",
    "df = df.drop_duplicates()\n",
    "\n",
    "# cleaning up columns\n",
    "df[\"price\"] = pd.to_numeric(df[\"list_price\"], errors=\"coerce\")\n",
    "df[\"favorites\"] = pd.to_numeric(df[\"favorites\"], errors=\"coerce\")\n",
    "df[\"reviews\"] = pd.to_numeric(df[\"reviews\"], errors =\"coerce\")\n",
    "\n",
    "# dropping rows with missing/invalid prices\n",
    "df = df[df[\"price\"].notnull() & (df[\"price\"]>0)]\n",
    "\n",
    "# extracting pattern type from title of listing\n",
    "df[\"pattern_type\"] = df[\"name\"].str.extract(r'amigurumi|hat|bag|plush|doll|top|sweater|dress|scarf|blanket|toy|shawl)', expand=False)\n",
    "\n",
    "df.sample(5)"
   ]
  },
  {
   "cell_type": "code",
   "execution_count": null,
   "id": "3369edb1-d540-4ec7-9e72-84e632e5a3db",
   "metadata": {},
   "outputs": [],
   "source": []
  }
 ],
 "metadata": {
  "kernelspec": {
   "display_name": "Python [conda env:base] *",
   "language": "python",
   "name": "conda-base-py"
  },
  "language_info": {
   "codemirror_mode": {
    "name": "ipython",
    "version": 3
   },
   "file_extension": ".py",
   "mimetype": "text/x-python",
   "name": "python",
   "nbconvert_exporter": "python",
   "pygments_lexer": "ipython3",
   "version": "3.13.5"
  }
 },
 "nbformat": 4,
 "nbformat_minor": 5
}
